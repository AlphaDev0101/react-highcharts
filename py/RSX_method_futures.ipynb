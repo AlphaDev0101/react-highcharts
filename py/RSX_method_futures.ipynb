{
 "cells": [
  {
   "cell_type": "markdown",
   "metadata": {},
   "source": [
    "## Inputs"
   ]
  },
  {
   "cell_type": "code",
   "execution_count": 13,
   "metadata": {},
   "outputs": [],
   "source": [
    "from numpy.lib.shape_base import split\n",
    "import trader_tool as tt\n",
    "import pandas as pd\n",
    "import numpy as np\n",
    "from fpdf import FPDF\n",
    "import matplotlib.pyplot as plt\n",
    "from matplotlib.ticker import MaxNLocator\n",
    "import tqdm as tq\n",
    "import glob\n",
    "import datetime"
   ]
  },
  {
   "cell_type": "code",
   "execution_count": 14,
   "metadata": {},
   "outputs": [
    {
     "name": "stdout",
     "output_type": "stream",
     "text": [
      "S:\\2022Candles\\82122spreadonly\\CBOT_MINI MYM1!_CME_MINI MNQ1!, 1.csv\n",
      "S:\\2022Candles\\82122spreadonly\\CBOT_MINI MYM1!_CME_MINI MNQ1!, 2.csv\n",
      "S:\\2022Candles\\82122spreadonly\\CBOT_MINI MYM1!_CME_MINI MNQ1!, 3.csv\n",
      "S:\\2022Candles\\82122spreadonly\\CBOT_MINI MYM1!_CME_MINI MNQ1!, 5.csv\n"
     ]
    }
   ],
   "source": [
    "all_prices = glob.glob(r'S:\\2022Candles\\82122spreadonly\\*.csv')\n",
    "# data from trading view\n",
    "\n",
    "\n",
    "frequency_min = 15\n",
    "frequency_max = 25\n",
    "\n",
    "upper_min = 70\n",
    "upper_max = 80\n",
    "\n",
    "lower_min = 20\n",
    "lower_max = 30\n",
    "\n",
    "\n",
    "initial_capital = 100000\n",
    "commission = 0\n",
    "start = 0\n",
    "\n",
    "type_of_commission = \"Reduce Contracts\" \n",
    "Close_position = True\n",
    "\n",
    "# Query Inputs\n",
    "query = 'Profit factor'\n",
    "sorting_params = [\"Net Profit\", \"% Profitability\", \"Average Win/Loss\", \"Profit factor\", \"Profit Power\"]\n",
    "boundary = 1.3\n",
    "reduce_1 = 200\n",
    "reduce_2 = 500\n",
    "min_trades = 20\n",
    "max_trades = 100\n",
    "\n",
    "\n",
    "print(*all_prices,sep='\\n')"
   ]
  },
  {
   "cell_type": "markdown",
   "metadata": {},
   "source": [
    "## Calculate RSX"
   ]
  },
  {
   "cell_type": "code",
   "execution_count": 15,
   "metadata": {},
   "outputs": [],
   "source": [
    "ranges = [frequency_max-frequency_min+1, upper_max-upper_min+1, lower_max-lower_min+1]\n",
    "\n",
    "col_names = [\"Frequency\",\"Upper\",\"Lower\",\"Net Profit\",\t\"Total Trades\",\t\"% Profitability\",\t\"Average Win/Loss\",\t\n",
    "             \"Average Trade\", \"Average Bars\",\t\"Profit factor\",\t\"Stratergy Max Drawdown\", \"Profit Power\",\t \n",
    "             \"Min Runup\",\t\"Average Runup\",\t\"Max Runup\", \"Min Drawdown\", \"Average Drawdown\",\t\"Max Drawdown\", \n",
    "             \"Cumalative Profit\"]\n",
    "df_both    = pd.DataFrame(0,index= np.arange(ranges[0] * ranges[1] * ranges[2]),columns=col_names)\n",
    "df_long    = pd.DataFrame(0,index= np.arange(ranges[0] * ranges[1] * ranges[2]),columns=col_names)\n",
    "df_short   = pd.DataFrame(0,index= np.arange(ranges[0] * ranges[1] * ranges[2]),columns=col_names)\n",
    "\n",
    "\n",
    "def rsx_full(file):\n",
    "    prices = pd.read_csv(file, usecols=[\"open\",\"high\",\"low\",\"close\"])    \n",
    "    r = 0\n",
    "    for frequency in tq.tqdm(range(frequency_min, frequency_max + 1)):    \n",
    "\n",
    "        rsx_full = tt.rsx(frequency, prices[\"close\"])\n",
    "        if start > 2:\n",
    "            rsx_full = rsx_full[start-2:]\n",
    "            prices = prices[start-2:]\n",
    "        \n",
    "        for Upper in range(upper_min, upper_max+1):\n",
    "            for Lower in range(lower_min, lower_max+1):\n",
    "                metr_both, metr_long, metr_short = tt.trade_triggers(Upper, Lower, rsx_full, initial_capital, \n",
    "                                                                    prices, commission, Close_position=Close_position, \n",
    "                                                                    type_of_commission=type_of_commission)\n",
    "                \n",
    "                df_both.iloc[r,:]  = np.append([frequency, Upper, Lower], metr_both)\n",
    "                df_long.iloc[r,:]  = np.append([frequency, Upper, Lower], metr_long)\n",
    "                df_short.iloc[r,:] = np.append([frequency, Upper, Lower], metr_short)\n",
    "                r += 1\n",
    "    \n",
    "    return df_both, df_long, df_short\n",
    "    \n",
    "    "
   ]
  },
  {
   "cell_type": "markdown",
   "metadata": {},
   "source": [
    "## Queries"
   ]
  },
  {
   "cell_type": "code",
   "execution_count": 16,
   "metadata": {},
   "outputs": [],
   "source": [
    "# Collect data \n",
    "def collect_details(df_details,  df_options, information):\n",
    "    \n",
    "    return \n",
    "    "
   ]
  },
  {
   "cell_type": "code",
   "execution_count": 17,
   "metadata": {},
   "outputs": [],
   "source": [
    "def all_queries(df_both, df_long, df_short):\n",
    "    # Remove too many and too frew trades\n",
    "    df_both_r    = df_both.loc[(df_both['Total Trades'] >= min_trades) & (df_both['Total Trades'] <= max_trades)]\n",
    "    df_long_r    = df_long.loc[(df_long['Total Trades'] >= min_trades) & (df_long['Total Trades'] <= max_trades)]\n",
    "    df_short_r   = df_short.loc[(df_short['Total Trades'] >= min_trades) & (df_short['Total Trades'] <= max_trades)]\n",
    "\n",
    "    # Reduce 1\n",
    "    df_both_options_r1 = tt.simple_query(df_both_r, query, boundary, sorting_params, reduce_1)\n",
    "    df_long_options_r1 = tt.simple_query(df_long_r, query, boundary, sorting_params, reduce_1)\n",
    "    df_short_options_r1 = tt.simple_query(df_short_r, query, boundary, sorting_params, reduce_1)\n",
    "    \n",
    "    return df_both_options_r1, df_long_options_r1, df_short_options_r1"
   ]
  },
  {
   "cell_type": "code",
   "execution_count": 18,
   "metadata": {},
   "outputs": [
    {
     "name": "stdout",
     "output_type": "stream",
     "text": [
      "S:\\2022Candles\\82122spreadonly\\CBOT_MINI MYM1!_CME_MINI MNQ1!, 1.csv\n"
     ]
    },
    {
     "name": "stderr",
     "output_type": "stream",
     "text": [
      "100%|██████████| 11/11 [00:32<00:00,  2.92s/it]\n"
     ]
    },
    {
     "name": "stdout",
     "output_type": "stream",
     "text": [
      "S:\\2022Candles\\82122spreadonly\\CBOT_MINI MYM1!_CME_MINI MNQ1!, 2.csv\n"
     ]
    },
    {
     "name": "stderr",
     "output_type": "stream",
     "text": [
      "100%|██████████| 11/11 [00:33<00:00,  3.08s/it]\n"
     ]
    },
    {
     "name": "stdout",
     "output_type": "stream",
     "text": [
      "S:\\2022Candles\\82122spreadonly\\CBOT_MINI MYM1!_CME_MINI MNQ1!, 3.csv\n"
     ]
    },
    {
     "name": "stderr",
     "output_type": "stream",
     "text": [
      "100%|██████████| 11/11 [00:34<00:00,  3.17s/it]\n"
     ]
    },
    {
     "name": "stdout",
     "output_type": "stream",
     "text": [
      "S:\\2022Candles\\82122spreadonly\\CBOT_MINI MYM1!_CME_MINI MNQ1!, 5.csv\n"
     ]
    },
    {
     "name": "stderr",
     "output_type": "stream",
     "text": [
      "100%|██████████| 11/11 [00:36<00:00,  3.34s/it]\n"
     ]
    }
   ],
   "source": [
    "both_options_r1 = {}\n",
    "long_options_r1 = {}\n",
    "short_options_r1 = {}\n",
    "\n",
    "for i in range(len(all_prices)):\n",
    "    print(all_prices[i])\n",
    "    df_both, df_long, df_short = rsx_full(all_prices[i])\n",
    "    df_both_options_r1, df_long_options_r1, df_short_options_r1 = all_queries(df_both=df_both, df_long=df_long, df_short=df_short)\n",
    "    name_parts = all_prices[i].split(', ')\n",
    "    timeframe = name_parts[1].split('.')[0]\n",
    "    name = name_parts[0].split(' ')[1] + ' ' + timeframe\n",
    "\n",
    "    both_options_r1[name] = df_both_options_r1.loc[:, ('Sort by', 'Frequency', 'Upper', 'Lower')]\n",
    "    long_options_r1[name] = df_long_options_r1.loc[:, ('Sort by', 'Frequency', 'Upper', 'Lower')]\n",
    "    short_options_r1[name] = df_short_options_r1.loc[:, ('Sort by', 'Frequency', 'Upper', 'Lower')]\n",
    "\n",
    "big_both = pd.concat(both_options_r1, axis=1)\n",
    "big_long = pd.concat(long_options_r1, axis=1)\n",
    "big_short = pd.concat(short_options_r1, axis=1)"
   ]
  },
  {
   "cell_type": "code",
   "execution_count": 19,
   "metadata": {},
   "outputs": [
    {
     "name": "stdout",
     "output_type": "stream",
     "text": [
      "Both\n",
      "|    | ('MYM1!_CME_MINI 1', 'Sort by')   |   ('MYM1!_CME_MINI 1', 'Frequency') |   ('MYM1!_CME_MINI 1', 'Upper') |   ('MYM1!_CME_MINI 1', 'Lower') | ('MYM1!_CME_MINI 2', 'Sort by')   |   ('MYM1!_CME_MINI 2', 'Frequency') |   ('MYM1!_CME_MINI 2', 'Upper') |   ('MYM1!_CME_MINI 2', 'Lower') | ('MYM1!_CME_MINI 3', 'Sort by')   |   ('MYM1!_CME_MINI 3', 'Frequency') |   ('MYM1!_CME_MINI 3', 'Upper') |   ('MYM1!_CME_MINI 3', 'Lower') | ('MYM1!_CME_MINI 5', 'Sort by')   |   ('MYM1!_CME_MINI 5', 'Frequency') |   ('MYM1!_CME_MINI 5', 'Upper') |   ('MYM1!_CME_MINI 5', 'Lower') |\n",
      "|---:|:----------------------------------|------------------------------------:|--------------------------------:|--------------------------------:|:----------------------------------|------------------------------------:|--------------------------------:|--------------------------------:|:----------------------------------|------------------------------------:|--------------------------------:|--------------------------------:|:----------------------------------|------------------------------------:|--------------------------------:|--------------------------------:|\n",
      "|  0 | Net Profit                        |                                  25 |                              73 |                              22 | Net Profit                        |                                  25 |                              70 |                              26 | Net Profit                        |                                  18 |                              78 |                              20 | Net Profit                        |                                  25 |                              76 |                              26 |\n",
      "|  1 | % Profitability                   |                                  23 |                              73 |                              21 | % Profitability                   |                                  20 |                              77 |                              25 | % Profitability                   |                                  19 |                              77 |                              20 | % Profitability                   |                                  25 |                              76 |                              26 |\n",
      "|  2 | Average Win/Loss                  |                                  22 |                              71 |                              21 | Average Win/Loss                  |                                  25 |                              70 |                              26 | Average Win/Loss                  |                                  18 |                              79 |                              20 | Average Win/Loss                  |                                  23 |                              78 |                              25 |\n",
      "|  3 | Profit factor                     |                                  25 |                              73 |                              22 | Profit factor                     |                                  25 |                              73 |                              21 | Profit factor                     |                                  18 |                              78 |                              20 | Profit factor                     |                                  25 |                              76 |                              26 |\n",
      "|  4 | Profit Power                      |                                  25 |                              73 |                              22 | Profit Power                      |                                  25 |                              73 |                              20 | Profit Power                      |                                  18 |                              78 |                              21 | Profit Power                      |                                  25 |                              76 |                              26 |\n",
      "\n",
      "\n",
      "\n",
      "Long\n",
      "|    | ('MYM1!_CME_MINI 1', 'Sort by')   |   ('MYM1!_CME_MINI 1', 'Frequency') |   ('MYM1!_CME_MINI 1', 'Upper') |   ('MYM1!_CME_MINI 1', 'Lower') | ('MYM1!_CME_MINI 2', 'Sort by')   |   ('MYM1!_CME_MINI 2', 'Frequency') |   ('MYM1!_CME_MINI 2', 'Upper') |   ('MYM1!_CME_MINI 2', 'Lower') | ('MYM1!_CME_MINI 3', 'Sort by')   |   ('MYM1!_CME_MINI 3', 'Frequency') |   ('MYM1!_CME_MINI 3', 'Upper') |   ('MYM1!_CME_MINI 3', 'Lower') | ('MYM1!_CME_MINI 5', 'Sort by')   |   ('MYM1!_CME_MINI 5', 'Frequency') |   ('MYM1!_CME_MINI 5', 'Upper') |   ('MYM1!_CME_MINI 5', 'Lower') |\n",
      "|---:|:----------------------------------|------------------------------------:|--------------------------------:|--------------------------------:|:----------------------------------|------------------------------------:|--------------------------------:|--------------------------------:|:----------------------------------|------------------------------------:|--------------------------------:|--------------------------------:|:----------------------------------|------------------------------------:|--------------------------------:|--------------------------------:|\n",
      "|  0 | Net Profit                        |                                  16 |                              77 |                              29 | Net Profit                        |                                  25 |                              73 |                              28 | Net Profit                        |                                  18 |                              76 |                              20 | Net Profit                        |                                  25 |                              76 |                              25 |\n",
      "|  1 | % Profitability                   |                                  16 |                              77 |                              29 | % Profitability                   |                                  19 |                              78 |                              30 | % Profitability                   |                                  18 |                              76 |                              21 | % Profitability                   |                                  25 |                              76 |                              25 |\n",
      "|  2 | Average Win/Loss                  |                                  18 |                              74 |                              30 | Average Win/Loss                  |                                  23 |                              74 |                              27 | Average Win/Loss                  |                                  20 |                              76 |                              30 | Average Win/Loss                  |                                  24 |                              77 |                              26 |\n",
      "|  3 | Profit factor                     |                                  16 |                              77 |                              29 | Profit factor                     |                                  20 |                              77 |                              30 | Profit factor                     |                                  17 |                              77 |                              28 | Profit factor                     |                                  25 |                              76 |                              25 |\n",
      "|  4 | Profit Power                      |                                  15 |                              78 |                              28 | Profit Power                      |                                  20 |                              77 |                              30 | Profit Power                      |                                  17 |                              77 |                              28 | Profit Power                      |                                  25 |                              76 |                              25 |\n",
      "\n",
      "\n",
      "\n",
      "Short\n",
      "|    | ('MYM1!_CME_MINI 1', 'Sort by')   |   ('MYM1!_CME_MINI 1', 'Frequency') |   ('MYM1!_CME_MINI 1', 'Upper') |   ('MYM1!_CME_MINI 1', 'Lower') | ('MYM1!_CME_MINI 2', 'Sort by')   |   ('MYM1!_CME_MINI 2', 'Frequency') |   ('MYM1!_CME_MINI 2', 'Upper') |   ('MYM1!_CME_MINI 2', 'Lower') | ('MYM1!_CME_MINI 3', 'Sort by')   |   ('MYM1!_CME_MINI 3', 'Frequency') |   ('MYM1!_CME_MINI 3', 'Upper') |   ('MYM1!_CME_MINI 3', 'Lower') | ('MYM1!_CME_MINI 5', 'Sort by')   |   ('MYM1!_CME_MINI 5', 'Frequency') |   ('MYM1!_CME_MINI 5', 'Upper') |   ('MYM1!_CME_MINI 5', 'Lower') |\n",
      "|---:|:----------------------------------|------------------------------------:|--------------------------------:|--------------------------------:|:----------------------------------|------------------------------------:|--------------------------------:|--------------------------------:|:----------------------------------|------------------------------------:|--------------------------------:|--------------------------------:|:----------------------------------|------------------------------------:|--------------------------------:|--------------------------------:|\n",
      "|  0 | Net Profit                        |                                  16 |                              77 |                              29 | Net Profit                        |                                  25 |                              70 |                              26 | Net Profit                        |                                  18 |                              76 |                              20 | Net Profit                        |                                  25 |                              76 |                              27 |\n",
      "|  1 | % Profitability                   |                                  15 |                              75 |                              28 | % Profitability                   |                                  18 |                              70 |                              21 | % Profitability                   |                                  20 |                              72 |                              21 | % Profitability                   |                                  24 |                              77 |                              26 |\n",
      "|  2 | Average Win/Loss                  |                                  18 |                              74 |                              21 | Average Win/Loss                  |                                  24 |                              70 |                              26 | Average Win/Loss                  |                                  21 |                              74 |                              20 | Average Win/Loss                  |                                  22 |                              78 |                              22 |\n",
      "|  3 | Profit factor                     |                                  18 |                              74 |                              21 | Profit factor                     |                                  25 |                              70 |                              26 | Profit factor                     |                                  19 |                              77 |                              20 | Profit factor                     |                                  25 |                              76 |                              27 |\n",
      "|  4 | Profit Power                      |                                  18 |                              74 |                              21 | Profit Power                      |                                  22 |                              70 |                              26 | Profit Power                      |                                  21 |                              75 |                              20 | Profit Power                      |                                  25 |                              76 |                              27 |\n"
     ]
    }
   ],
   "source": [
    "print('Both')\n",
    "print(big_both.to_markdown())\n",
    "print('\\n\\n')\n",
    "print('Long')\n",
    "print(big_long.to_markdown())\n",
    "print('\\n\\n')\n",
    "print('Short')\n",
    "print(big_short.to_markdown())"
   ]
  },
  {
   "cell_type": "markdown",
   "metadata": {},
   "source": [
    "## Pine Scipt Output"
   ]
  },
  {
   "cell_type": "code",
   "execution_count": 20,
   "metadata": {},
   "outputs": [],
   "source": [
    "# Delete \n",
    "file_read = open(\"TV_input.txt\", \"r\")\n",
    "lines = file_read.readlines()\n",
    "\n",
    "# New infor\n",
    "def pinescript(title, big_long, big_both, file_append):\n",
    "    all_info = title.split(', ')\n",
    "    trade = all_info[0]\n",
    "    trade = trade.split(\" \")[1]\n",
    "    time_frame = all_info[-1].split('.')[0]\n",
    "    name = all_info[0].split(' ')[1] + ' ' + time_frame\n",
    "\n",
    "    \n",
    "    # Format\n",
    "    template = \"\"\"\n",
    "//Trade : {name}\n",
    "if syminfo.ticker == \"{trade}\" and timeframe.period == \"{time_frame}\"\n",
    "    is_scanned := 1\n",
    "    primary_per_length := {primary_per_length}\n",
    "    primary_per_obLevel := {primary_per_obLevel}\n",
    "    primary_per_osLevel := {primary_per_osLevel}\n",
    "    primary_net_length := {primary_net_length}\n",
    "    primary_net_obLevel := {primary_net_obLevel}\n",
    "    primary_net_osLevel := {primary_net_osLevel}\n",
    "    primary_awl_length := {primary_awl_length}\n",
    "    primary_awl_obLevel := {primary_awl_obLevel}\n",
    "    primary_awl_osLevel := {primary_awl_osLevel}\n",
    "    primary_pf_length := {primary_pf_length}\n",
    "    primary_pf_obLevel := {primary_pf_obLevel}\n",
    "    primary_pf_osLevel := {primary_pf_osLevel}\n",
    "    primary_ef_length := {primary_ef_length}\n",
    "    primary_ef_obLevel := {primary_ef_obLevel}\n",
    "    primary_ef_osLevel := {primary_ef_osLevel}\n",
    "    secondary_per_length := {secondary_per_length}\n",
    "    secondary_per_obLevel := {secondary_per_obLevel}\n",
    "    secondary_per_osLevel := {secondary_per_osLevel}\n",
    "    secondary_net_length := {secondary_net_length}\n",
    "    secondary_net_obLevel := {secondary_net_obLevel}\n",
    "    secondary_net_osLevel := {secondary_net_osLevel}\n",
    "    secondary_awl_length := {secondary_awl_length}\n",
    "    secondary_awl_obLevel := {secondary_awl_obLevel}\n",
    "    secondary_awl_osLevel := {secondary_awl_osLevel}\n",
    "    secondary_pf_length := {secondary_pf_length}\n",
    "    secondary_pf_obLevel := {secondary_pf_obLevel}\n",
    "    secondary_pf_osLevel := {secondary_pf_osLevel}\n",
    "    secondary_ef_length := {secondary_ef_length}\n",
    "    secondary_ef_obLevel := {secondary_ef_obLevel}\n",
    "    secondary_ef_osLevel := {secondary_ef_osLevel} \\n\n",
    "    \n",
    "//End of {name}\n",
    "\"\"\"\n",
    "    context = {\n",
    "        \"name\" : name,\n",
    "        \"trade\" : trade,\n",
    "        \"time_frame\": time_frame,\n",
    "        \"primary_per_length\" : int(big_both.loc[1, (name, 'Frequency')]),\n",
    "        \"primary_per_obLevel\" : int(big_both.loc[1, (name, 'Upper')]),\n",
    "        \"primary_per_osLevel\" : int(big_both.loc[1, (name, 'Lower')]),\n",
    "        \"primary_net_length\" : int(big_both.loc[0, (name, 'Frequency')]),\n",
    "        \"primary_net_obLevel\" : int(big_both.loc[0, (name, 'Upper')]),\n",
    "        \"primary_net_osLevel\" : int(big_both.loc[0, (name, 'Lower')]),\n",
    "        \"primary_awl_length\" : int(big_both.loc[2, (name, 'Frequency')]),\n",
    "        \"primary_awl_obLevel\" : int(big_both.loc[2, (name, 'Upper')]),\n",
    "        \"primary_awl_osLevel\" : int(big_both.loc[2, (name, 'Lower')]),\n",
    "        \"primary_pf_length\" : int(big_both.loc[3, (name, 'Frequency')]),\n",
    "        \"primary_pf_obLevel\" : int(big_both.loc[3, (name, 'Upper')]),\n",
    "        \"primary_pf_osLevel\" : int(big_both.loc[3, (name, 'Lower')]),\n",
    "        \"primary_ef_length\" : int(big_both.loc[4, (name, 'Frequency')]),\n",
    "        \"primary_ef_obLevel\" : int(big_both.loc[4, (name, 'Upper')]),\n",
    "        \"primary_ef_osLevel\" : int(big_both.loc[4, (name, 'Lower')]),\n",
    "        \"secondary_per_length\" : int(big_long.loc[1, (name, 'Frequency')]),\n",
    "        \"secondary_per_obLevel\" : int(big_long.loc[1, (name, 'Upper')]),\n",
    "        \"secondary_per_osLevel\" : int(big_long.loc[1, (name, 'Lower')]),\n",
    "        \"secondary_net_length\" : int(big_long.loc[0, (name, 'Frequency')]),\n",
    "        \"secondary_net_obLevel\" : int(big_long.loc[0, (name, 'Upper')]),\n",
    "        \"secondary_net_osLevel\" : int(big_long.loc[0, (name, 'Lower')]),\n",
    "        \"secondary_awl_length\" : int(big_long.loc[2, (name, 'Frequency')]),\n",
    "        \"secondary_awl_obLevel\" : int(big_long.loc[2, (name, 'Upper')]),\n",
    "        \"secondary_awl_osLevel\" : int(big_long.loc[2, (name, 'Lower')]),\n",
    "        \"secondary_pf_length\" : int(big_long.loc[3, (name, 'Frequency')]),\n",
    "        \"secondary_pf_obLevel\" : int(big_long.loc[3, (name, 'Upper')]),\n",
    "        \"secondary_pf_osLevel\" : int(big_long.loc[3, (name, 'Lower')]),\n",
    "        \"secondary_ef_length\" : int(big_long.loc[4, (name, 'Frequency')]),\n",
    "        \"secondary_ef_obLevel\" : int(big_long.loc[4, (name, 'Upper')]),\n",
    "        \"secondary_ef_osLevel\" : int(big_long.loc[4, (name, 'Lower')])\n",
    "        }\n",
    "\n",
    "    file_append.write(template.format(**context))\n",
    "\n",
    "# Repeat Info\n",
    "def repeat_text(start, end, lines):\n",
    "    file_write = open(\"TV_input.txt\",\"w\")\n",
    "    for n, line in enumerate(lines):\n",
    "        if start <= n and end >= n:\n",
    "            file_write.write(line)\n",
    "\n",
    "    file_write.close()\n",
    "    \n",
    "\n",
    "# Delete \n",
    "def remove_trade(first_ind, last_ind, lines):\n",
    "    file_write = open(\"TV_input.txt\",\"w\")\n",
    "    for n, line in enumerate(lines):\n",
    "        if first_ind > n >= last_ind:\n",
    "            file_write.write(line)            \n",
    "\n",
    "    file_write.close()\n",
    "    \n",
    "\n",
    "\n",
    "titles = [title.split('\\\\')[-1] for title in all_prices ]\n",
    "all_info = titles[0].split(', ')\n",
    "trade = all_info[0]\n",
    "first_ind = lines.index('//////////BEGIN ENTERING INPUTS\\n')\n",
    "last_ind = lines.index('//////////END ENTERING INPUTS\\n')\n",
    "\n",
    "# Remove Duplication\n",
    "remove_trade(first_ind, last_ind, lines)\n",
    "\n",
    "# # Start\n",
    "repeat_text(0, first_ind, lines)\n",
    "file_append = open(\"TV_input.txt\", \"a\")\n",
    "file_append.write(('//Time stamp: ' + str(datetime.datetime.now())))\n",
    "\n",
    "# Pine Script\n",
    "for title in titles:\n",
    "    pinescript(title, big_long, big_both, file_append)\n",
    "    \n",
    "# End Remark\n",
    "for line in lines[last_ind:]:\n",
    "    file_append.write(line)\n",
    "file_append.close()"
   ]
  },
  {
   "cell_type": "markdown",
   "metadata": {},
   "source": [
    "## Visualized"
   ]
  },
  {
   "cell_type": "code",
   "execution_count": 21,
   "metadata": {},
   "outputs": [],
   "source": [
    "# def vis_results(df_options, df):\n",
    "#     rows = int(np.ceil(len(df_options)/2))\n",
    "#     cols = 2\n",
    "#     fig, axs = plt.subplots(nrows= rows, ncols=cols, figsize=(rows*7,cols*8))\n",
    "#     ax = axs.ravel()\n",
    "#     for i in range(len(df_options)):\n",
    "#         cm_profit = df['Cumalative Profit'].loc[(df[\"Frequency\"] == int(df_options[\"Frequency\"].iloc[i]))\n",
    "#                                                  & (df[\"Upper\"] == int(df_options[\"Upper\"].iloc[i]))\n",
    "#                                                  & (df[\"Lower\"] == int(df_options[\"Lower\"].iloc[i]))]\n",
    "        \n",
    "#         cm_profit = cm_profit.values[0][0]+initial_capital\n",
    "#         ax[i].plot(cm_profit)\n",
    "#         ax[i].plot([0, len(cm_profit)],[initial_capital, initial_capital])\n",
    "#         ax[i].set_xlabel('Trade')\n",
    "#         ax[i].set_ylabel('Capital')\n",
    "#         ax[i].set_title(('Equity Curve (' + df_both_options_r1[\"Frequency\"].iloc[i] \n",
    "#                         + ', ' + df_both_options_r1[\"Upper\"].iloc[i] + ', ' \n",
    "#                         + df_both_options_r1[\"Lower\"].iloc[i] + ') : ' \n",
    "#                         + df_both_options_r1[\"Sort by\"].iloc[i] ))"
   ]
  },
  {
   "cell_type": "markdown",
   "metadata": {},
   "source": [
    "### Both"
   ]
  },
  {
   "cell_type": "code",
   "execution_count": 22,
   "metadata": {},
   "outputs": [],
   "source": [
    "# vis_results(df_both_options_r1, df_both)\n",
    "# print('Top 200 Results')\n",
    "# print(df_both_options_r1.to_markdown())"
   ]
  },
  {
   "cell_type": "code",
   "execution_count": 23,
   "metadata": {},
   "outputs": [],
   "source": [
    "# vis_results(df_both_options_r2, df_both)\n",
    "# print('Top 500 Results')\n",
    "# print(df_both_options_r2.to_markdown())"
   ]
  },
  {
   "cell_type": "markdown",
   "metadata": {},
   "source": [
    "### Long"
   ]
  },
  {
   "cell_type": "code",
   "execution_count": 24,
   "metadata": {},
   "outputs": [],
   "source": [
    "# vis_results(df_long_options_r1, df_long)\n",
    "# print('Top 200 Results')\n",
    "# print(df_long_options_r1.to_markdown())"
   ]
  },
  {
   "cell_type": "code",
   "execution_count": 25,
   "metadata": {},
   "outputs": [],
   "source": [
    "# vis_results(df_long_options_r2, df_long)\n",
    "# print('Top 500 Results')\n",
    "# print(df_long_options_r2.to_markdown())"
   ]
  },
  {
   "cell_type": "markdown",
   "metadata": {},
   "source": [
    "### Short"
   ]
  },
  {
   "cell_type": "code",
   "execution_count": 26,
   "metadata": {},
   "outputs": [],
   "source": [
    "# vis_results(df_short_options_r1, df_short)\n",
    "# print('Top 200 Results')\n",
    "# print(df_short_options_r1.to_markdown())"
   ]
  },
  {
   "cell_type": "code",
   "execution_count": 27,
   "metadata": {},
   "outputs": [],
   "source": [
    "# vis_results(df_short_options_r2, df_long)\n",
    "# print('Top 500 Results')\n",
    "# print(df_short_options_r2.to_markdown())"
   ]
  }
 ],
 "metadata": {
  "interpreter": {
   "hash": "244471a843eaea7b4042a008ca032ea2ab915ac2a7b949d9eb03a30fdaab5ba3"
  },
  "kernelspec": {
   "display_name": "Python 3.9.4 64-bit",
   "language": "python",
   "name": "python3"
  },
  "language_info": {
   "codemirror_mode": {
    "name": "ipython",
    "version": 3
   },
   "file_extension": ".py",
   "mimetype": "text/x-python",
   "name": "python",
   "nbconvert_exporter": "python",
   "pygments_lexer": "ipython3",
   "version": "3.9.4"
  },
  "orig_nbformat": 4
 },
 "nbformat": 4,
 "nbformat_minor": 2
}
